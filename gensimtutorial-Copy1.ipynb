{
 "cells": [
  {
   "cell_type": "code",
   "execution_count": 1,
   "metadata": {
    "collapsed": false
   },
   "outputs": [],
   "source": [
    "import logging \n",
    "from gensim import corpora, models, similarities, matutils\n",
    "import numpy as np\n",
    "from scipy import stats\n",
    "from sklearn.cluster import AgglomerativeClustering\n",
    "from sklearn import metrics\n",
    "#from sklearn.semi_supervised import LabelSpreading\n",
    "#from sklearn.neural_network import BernoulliRBM\n",
    "#from sklearn.ensemble import RandomTreesEmbedding\n",
    "from sklearn.pipeline import Pipeline\n",
    "from math import log\n",
    "from nltk.corpus import stopwords\n",
    "\n",
    "import matplotlib.pyplot as plt\n",
    "\n",
    "logging.basicConfig(format='%(asctime)s : %(levelname)s : %(message)s', level=logging.INFO)"
   ]
  },
  {
   "cell_type": "code",
   "execution_count": 2,
   "metadata": {
    "collapsed": false
   },
   "outputs": [],
   "source": [
    "bigram=models.Phrases([line.lower().split() for line in open('attribute-Edward Poot.txt')])\n",
    "#print(bigram['Verpleegkundige met ervaring in de palliatieve zorg'.lower().split()])"
   ]
  },
  {
   "cell_type": "code",
   "execution_count": 3,
   "metadata": {
    "collapsed": false
   },
   "outputs": [
    {
     "name": "stdout",
     "output_type": "stream",
     "text": [
      "[u'in_staat', u'zijn_om', u'er', u'voor', u'te', u'zorgen', u'dat', u'het', u'zelfmanagement', u'van', u'de_client', u'wordt', u'bevorderd']\n"
     ]
    }
   ],
   "source": [
    "print(bigram['In staat zijn om er voor te zorgen dat het zelfmanagement van de client wordt bevorderd'.lower().split()])"
   ]
  },
  {
   "cell_type": "code",
   "execution_count": 97,
   "metadata": {
    "collapsed": true
   },
   "outputs": [],
   "source": [
    "stoplist1 = set('thuiszorg verpleegkundige voor vacature u je aan clienten de deze een en het in op van zorg met zijn bij 5 wij of te \\\n",
    "                werken is onze over als die om bezit niveau_4 functie bent binnen'.split())\n",
    "stoplist2=set(stopwords.words('dutch'))"
   ]
  },
  {
   "cell_type": "code",
   "execution_count": 115,
   "metadata": {
    "collapsed": false
   },
   "outputs": [
    {
     "data": {
      "text/plain": [
       "{'python', 'urbanplanners.txt'}"
      ]
     },
     "execution_count": 115,
     "metadata": {},
     "output_type": "execute_result"
    }
   ],
   "source": [
    "#stoplist=stoplist1.union(stoplist2)\n",
    "#'het' in stoplist\n",
    "#stoplist=stoplist2\n",
    "set([\"urbanplanners.txt\",\"python\"])"
   ]
  },
  {
   "cell_type": "code",
   "execution_count": 4,
   "metadata": {
    "collapsed": false
   },
   "outputs": [],
   "source": [
    "dictionary=corpora.Dictionary(bigram[line.lower().split()] for line in open('attribute-Edward Poot.txt'))\n",
    "stoplist=stopwords.words('dutch')\n",
    "\n",
    "stop_ids =[dictionary.token2id[stopword] for stopword in stoplist\n",
    "          if stopword in dictionary.token2id]\n",
    "#largeidf_ids=[tokenid for tokenid, docfreq in dictionary.dfs.iteritems() if log(173820/docfreq,2)<6]\n",
    "#print(largeidf_ids)\n",
    "#once_ids = [tokenid for tokenid, docfreq in dictionary.dfs.iteritems() if docfreq==1]\n",
    "dictionary.filter_tokens(stop_ids)\n",
    "dictionary.compactify()\n",
    "print(dictionary)"
   ]
  },
  {
   "cell_type": "code",
   "execution_count": 5,
   "metadata": {
    "collapsed": false
   },
   "outputs": [],
   "source": [
    "dictionary.save('./clusterEdward/edwarddict.dict')"
   ]
  },
  {
   "cell_type": "code",
   "execution_count": 6,
   "metadata": {
    "collapsed": false
   },
   "outputs": [],
   "source": [
    "dictionary = corpora.Dictionary.load('./clusterEdward/edwarddict.dict')"
   ]
  },
  {
   "cell_type": "code",
   "execution_count": 7,
   "metadata": {
    "collapsed": false
   },
   "outputs": [
    {
     "name": "stdout",
     "output_type": "stream",
     "text": [
      "Dictionary(1779 unique tokens: [u'vereisen', u'gastvrouw', u'verklaring_omtrent', u'digitaal', u'verwachten']...)\n"
     ]
    }
   ],
   "source": [
    "print(dictionary)"
   ]
  },
  {
   "cell_type": "code",
   "execution_count": 8,
   "metadata": {
    "collapsed": false
   },
   "outputs": [],
   "source": [
    "class MyCorpus(object):\n",
    "    def __iter__(self):\n",
    "        for line in open('attribute-Edward Poot.txt'):\n",
    "            yield dictionary.doc2bow(bigram[line.lower().split()])"
   ]
  },
  {
   "cell_type": "code",
   "execution_count": 9,
   "metadata": {
    "collapsed": false
   },
   "outputs": [],
   "source": [
    "corpus_memory_friendly=MyCorpus()\n",
    "corpora.MmCorpus.serialize('./clusterEdward/edwardcorpus.mm', corpus_memory_friendly)"
   ]
  },
  {
   "cell_type": "code",
   "execution_count": 10,
   "metadata": {
    "collapsed": false
   },
   "outputs": [],
   "source": [
    "corpus=corpora.MmCorpus(\"./clusterEdward/edwardcorpus.mm\")"
   ]
  },
  {
   "cell_type": "code",
   "execution_count": 11,
   "metadata": {
    "collapsed": true
   },
   "outputs": [],
   "source": [
    "nonempty_corpus=[doc for doc in corpus if doc != []]"
   ]
  },
  {
   "cell_type": "code",
   "execution_count": 12,
   "metadata": {
    "collapsed": true
   },
   "outputs": [],
   "source": [
    "empty_corpus_ids=[]\n",
    "for i in range(len(corpus)):\n",
    "    if not corpus[i]:\n",
    "        empty_corpus_ids.append(i)\n",
    "    else:\n",
    "        continue"
   ]
  },
  {
   "cell_type": "code",
   "execution_count": 13,
   "metadata": {
    "collapsed": false
   },
   "outputs": [
    {
     "data": {
      "text/plain": [
       "1205"
      ]
     },
     "execution_count": 13,
     "metadata": {},
     "output_type": "execute_result"
    }
   ],
   "source": [
    "len(nonempty_corpus)"
   ]
  },
  {
   "cell_type": "code",
   "execution_count": 28,
   "metadata": {
    "collapsed": false
   },
   "outputs": [],
   "source": [
    "#log_ent =models.LogEntropyModel(corpus)\n",
    "#corpus_logent=log_ent[corpus]\n",
    "tfidf=models.TfidfModel(nonempty_corpus)\n",
    "corpus_tfidf = tfidf[nonempty_corpus]\n",
    "lsi = models.LsiModel(corpus_tfidf, id2word=dictionary, num_topics=100)\n",
    "corpus_lsi=lsi[corpus_tfidf]\n",
    "#print(corpus_logent)\n",
    "#print(corpus_lsi)"
   ]
  },
  {
   "cell_type": "code",
   "execution_count": 29,
   "metadata": {
    "collapsed": false
   },
   "outputs": [],
   "source": [
    "lsi.save('./clusterEdward/edwardlsi.lsi')"
   ]
  },
  {
   "cell_type": "code",
   "execution_count": 30,
   "metadata": {
    "collapsed": true
   },
   "outputs": [],
   "source": [
    "tfidf.save('./clusterEdward/edwardtfidf.tfidf')"
   ]
  },
  {
   "cell_type": "code",
   "execution_count": 31,
   "metadata": {
    "collapsed": false
   },
   "outputs": [],
   "source": [
    "mycorpus_matrix = matutils.corpus2dense(corpus_lsi, num_terms=100).transpose()\n",
    "#mycorpus_matrix = matutils.corpus2dense(corpus_tfidf, num_terms=19722).transpose()\n",
    "#mycorpus_matrix = matutils.corpus2csc(corpus_lsi)"
   ]
  },
  {
   "cell_type": "code",
   "execution_count": 39,
   "metadata": {
    "collapsed": false
   },
   "outputs": [],
   "source": [
    "model= AgglomerativeClustering(n_clusters=3,linkage=\"ward\",affinity=\"euclidean\")\n",
    "clustermembership=model.fit_predict(mycorpus_matrix)"
   ]
  }
 ],
 "metadata": {
  "kernelspec": {
   "display_name": "Python 2",
   "language": "python",
   "name": "python2"
  },
  "language_info": {
   "codemirror_mode": {
    "name": "ipython",
    "version": 2
   },
   "file_extension": ".py",
   "mimetype": "text/x-python",
   "name": "python",
   "nbconvert_exporter": "python",
   "pygments_lexer": "ipython2",
   "version": "2.7.8"
  }
 },
 "nbformat": 4,
 "nbformat_minor": 0
}
